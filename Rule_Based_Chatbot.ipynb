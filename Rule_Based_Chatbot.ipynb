{
  "nbformat": 4,
  "nbformat_minor": 0,
  "metadata": {
    "colab": {
      "provenance": []
    },
    "kernelspec": {
      "name": "python3",
      "display_name": "Python 3"
    },
    "language_info": {
      "name": "python"
    }
  },
  "cells": [
    {
      "cell_type": "code",
      "execution_count": 2,
      "metadata": {
        "id": "eh5DssJoHMYE",
        "colab": {
          "base_uri": "https://localhost:8080/"
        },
        "outputId": "ca313325-b3a7-449d-9f7e-eb522f5cc696"
      },
      "outputs": [
        {
          "output_type": "stream",
          "name": "stdout",
          "text": [
            "What is your name?\n",
            "priyanka\n",
            "Hi priyanka,I am Rule-Bot. Will you help me learn about your planet?\n",
            "yes\n",
            "Is there intelligent life on this planet?yes\n",
            "How do you think I feel when you say that?\n",
            "Its pretty good to have you\n",
            "Please tell me more.\n",
            "Please tell about your planet\n",
            "My planet is a utopia of diverse organisms and species.\n",
            "Oh,Thats good!\n",
            "I see. Can you elaborate?\n",
            "Nope\n",
            "I see. How do you think?\n",
            "Why do you come here?\n",
            "I see. How do you think?\n",
            "Good to meet you\n",
            "Interesting. Can you tell me more?\n",
            "Bye\n",
            "Interesting. Can you tell me more?\n",
            "No\n",
            "Interesting. Can you tell me more?\n",
            "no\n",
            "How do you think I feel when you say that?\n",
            "bye\n",
            "Okay, Have a nice Earth day\n"
          ]
        }
      ],
      "source": [
        "#importing regex and random libraries\n",
        "import re\n",
        "import random\n",
        "\n",
        "class RuleBot:\n",
        "  #potential negative responses\n",
        "  negative_responses = (\"no\", \"nope\",\"nah\",\"naw\", \"not a chance\",\"sorry\")\n",
        "  #keywors for exiting the conversation\n",
        "  exit_commands = (\"quit\",\"pass\",\"exit\",\"goodbye\",\"bye\",\"later\")\n",
        "  #random starter questions\n",
        "  random_questions = (\n",
        "      \"Why are you here?\",\n",
        "      \"Are there any humans like you?\",\n",
        "      \"What do you consume for sustenance?\",\n",
        "      \"Is there intelligent life on this planet?\",\n",
        "      \"Does Earth have a leader?\",\n",
        "      \"What planets have you visited?\",\n",
        "      \"What technology do you have on this planet?\"\n",
        "  )\n",
        "\n",
        "  def __init__(self):\n",
        "    self.alienbabble = {\"describe_planet_intent\":r'.*\\s*your planet.*',\n",
        "                        \"answer_why_intent\": r'why\\sare.*',\n",
        "                        \"about_intellipat\":r'.*\\s*intellipaat'\n",
        "                        }\n",
        "\n",
        "  def greet(self):\n",
        "        self.name = input(\"What is your name?\\n\")\n",
        "        will_help = input(\n",
        "            f\"Hi {self.name},I am Rule-Bot. Will you help me learn about your planet?\\n\")\n",
        "        if will_help in self.negative_responses:\n",
        "            print(\"Ok, Have a nice Earth day!\")\n",
        "            return\n",
        "        self.chat()\n",
        "\n",
        "  def make_exit(self,reply):\n",
        "        for command in self.exit_commands:\n",
        "          if reply == command:\n",
        "            print(\"Okay, Have a nice Earth day\")\n",
        "            return True\n",
        "\n",
        "  def chat(self):\n",
        "        reply = input(random.choice(self.random_questions)).lower()\n",
        "        while not self.make_exit(reply):\n",
        "            reply = input(self.match_reply(reply))\n",
        "\n",
        "  def match_reply(self, reply):\n",
        "      for intent, regex_pattern in self.alienbabble.items():\n",
        "          found_match = re.match(regex_pattern, reply)\n",
        "          if found_match:\n",
        "              if intent == 'describe_planet_intent':\n",
        "                  return self.describe_planet_intent()\n",
        "              elif intent == 'answer_why_intent':\n",
        "                  return self.answer_why_intent()\n",
        "              elif intent == 'about_intellipat':\n",
        "                  return self.about_intellipat()\n",
        "\n",
        "      # No match found for any intent after checking all\n",
        "      return self.no_match_intent()\n",
        "\n",
        "\n",
        "  def describe_planet_intent(self):\n",
        "      responses = (\"My planet is a utopia of diverse organisms and species.\\n\",\n",
        "                   \"I am from Opidipus, the capital of the Wayward Galaxies.\\n\")\n",
        "      return random.choice(responses)\n",
        "\n",
        "  def answer_why_intent(self):\n",
        "      responses = (\"I come in peace\\n\", \"I am here to collect data on your planet and its inhabitants\\n\",\n",
        "                   \"I heard the coffee is good\\n\")\n",
        "      return random.choice(responses)\n",
        "\n",
        "  def about_intellipat(self):\n",
        "      responses = (\"Intellipaat is world's largest professional educational company\\n\", \"Intellipaat will make you learn concepts in the clear-cut way\\n\",\n",
        "                   \"I heard the coffee is good\\n\")\n",
        "      return random.choice(responses)\n",
        "\n",
        "  def no_match_intent(self):\n",
        "      responses = (\"Please tell me more.\\n\",\"Why do you say that?\\n\",\"I see. Can you elaborate?\\n\",\n",
        "                   \"Interesting. Can you tell me more?\\n\",\"I see. How do you think?\\n\",\n",
        "                   \"How do you think I feel when you say that?\\n\")\n",
        "      return random.choice(responses)\n",
        "\n",
        "\n",
        "AlienBot = RuleBot()\n",
        "AlienBot.greet()\n"
      ]
    },
    {
      "cell_type": "code",
      "source": [],
      "metadata": {
        "id": "IydeWF81A2Bz"
      },
      "execution_count": null,
      "outputs": []
    }
  ]
}